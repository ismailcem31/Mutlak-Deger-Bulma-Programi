{
 "cells": [
  {
   "cell_type": "code",
   "execution_count": null,
   "id": "8ba1c321",
   "metadata": {},
   "outputs": [],
   "source": [
    "# Kullanıcının girdiği bir sayının mutlak değerini bulma\n",
    " \n",
    "# Sayıyı kullanıcıdan al\n",
    "sayi = float(input(\"Bir sayı giriniz: \"))\n",
    " \n",
    "# Sayının mutlak değerini hesapla\n",
    "if sayi < 0:\n",
    "    mutlak_deger = -sayi\n",
    "else:\n",
    "    mutlak_deger = sayi\n",
    " \n",
    "print(\"Sayının mutlak değeri: \", mutlak_deger)"
   ]
  }
 ],
 "metadata": {
  "kernelspec": {
   "display_name": "Python 3 (ipykernel)",
   "language": "python",
   "name": "python3"
  },
  "language_info": {
   "codemirror_mode": {
    "name": "ipython",
    "version": 3
   },
   "file_extension": ".py",
   "mimetype": "text/x-python",
   "name": "python",
   "nbconvert_exporter": "python",
   "pygments_lexer": "ipython3",
   "version": "3.11.3"
  }
 },
 "nbformat": 4,
 "nbformat_minor": 5
}
